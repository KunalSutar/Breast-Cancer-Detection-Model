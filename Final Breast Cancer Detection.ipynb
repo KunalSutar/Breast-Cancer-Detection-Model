{
 "cells": [
  {
   "cell_type": "code",
   "execution_count": 1,
   "id": "a4cd65db",
   "metadata": {},
   "outputs": [],
   "source": [
    "import os\n",
    "import cv2\n",
    "import numpy as np\n",
    "import tensorflow as tf\n",
    "import matplotlib.pyplot as plt\n",
    "from sklearn.metrics import confusion_matrix\n",
    "from sklearn.model_selection import train_test_split\n",
    "from sklearn.utils import shuffle\n",
    "import seaborn as sns\n",
    "import keras.utils as image\n",
    "import glob\n",
    "from tqdm import tqdm\n",
    "sns.set()"
   ]
  },
  {
   "cell_type": "code",
   "execution_count": 2,
   "id": "5adb34fa",
   "metadata": {},
   "outputs": [
    {
     "name": "stdout",
     "output_type": "stream",
     "text": [
      "['10253', '10254', '10255', '10256', '10257']\n"
     ]
    }
   ],
   "source": [
    "parent_dir = \"D:\\Jupyter Notebook\\BreastCancerDetection\\IDC_regular_ps50_idx5\"\n",
    "dir_list = os.listdir(parent_dir)\n",
    "print(dir_list[:5])"
   ]
  },
  {
   "cell_type": "markdown",
   "id": "063cf578",
   "metadata": {},
   "source": [
    "#### example path of a .png file : D:\\Jupyter Notebook\\BreastCancerDetection\\IDC_regular_ps50_idx5\\8863\\0\\8863_idx5_x51_y1251_class0.png"
   ]
  },
  {
   "cell_type": "code",
   "execution_count": 3,
   "id": "1ec77758",
   "metadata": {},
   "outputs": [
    {
     "name": "stderr",
     "output_type": "stream",
     "text": [
      "100%|████████████████████████████████████████████████████████████████████████████████| 279/279 [00:04<00:00, 66.53it/s]\n"
     ]
    }
   ],
   "source": [
    "N_IDC, P_IDC = [], [] #This list will contain all the paths to the images. \n",
    "#NOTE: Keep in mind whereever I have written negative or positive in this entire notebook, it refers to '0' and '1' respectively.\n",
    "\n",
    "\n",
    "for dir_name in tqdm(dir_list):\n",
    "    #For adding negaive paths.\n",
    "    negative_file_path = os.path.join(parent_dir,dir_name,'0')#will contain path of the negative folders.\n",
    "    negative_image_names = os.listdir(negative_file_path)\n",
    "    for negative_image_name in negative_image_names:\n",
    "        N_IDC.append(os.path.join(parent_dir,dir_name,'0',negative_image_name))\n",
    "        #or we could have also written it as ...\n",
    "\n",
    "    \n",
    "    #For adding positive paths.        \n",
    "    positive_file_path = os.path.join(parent_dir,dir_name,'1')#will contain path of the positive folders.\n",
    "    positive_image_names = os.listdir(positive_file_path)#positive_image_names is a list that will hold the names of images...\n",
    "    #that are inside the folder of '1'\n",
    "    for positive_image_name in positive_image_names:\n",
    "        P_IDC.append(os.path.join(parent_dir,dir_name,'1',positive_image_name))\n"
   ]
  },
  {
   "cell_type": "code",
   "execution_count": 4,
   "id": "8b248cab",
   "metadata": {
    "scrolled": false
   },
   "outputs": [
    {
     "data": {
      "text/plain": [
       "['D:\\\\Jupyter Notebook\\\\BreastCancerDetection\\\\IDC_regular_ps50_idx5\\\\10253\\\\0\\\\10253_idx5_x1001_y1001_class0.png',\n",
       " 'D:\\\\Jupyter Notebook\\\\BreastCancerDetection\\\\IDC_regular_ps50_idx5\\\\10253\\\\0\\\\10253_idx5_x1001_y1051_class0.png',\n",
       " 'D:\\\\Jupyter Notebook\\\\BreastCancerDetection\\\\IDC_regular_ps50_idx5\\\\10253\\\\0\\\\10253_idx5_x1001_y1101_class0.png',\n",
       " 'D:\\\\Jupyter Notebook\\\\BreastCancerDetection\\\\IDC_regular_ps50_idx5\\\\10253\\\\0\\\\10253_idx5_x1001_y1151_class0.png',\n",
       " 'D:\\\\Jupyter Notebook\\\\BreastCancerDetection\\\\IDC_regular_ps50_idx5\\\\10253\\\\0\\\\10253_idx5_x1001_y1201_class0.png']"
      ]
     },
     "execution_count": 4,
     "metadata": {},
     "output_type": "execute_result"
    }
   ],
   "source": [
    "N_IDC[:5]"
   ]
  },
  {
   "cell_type": "code",
   "execution_count": 5,
   "id": "6bc8e2cc",
   "metadata": {},
   "outputs": [
    {
     "data": {
      "text/plain": [
       "['D:\\\\Jupyter Notebook\\\\BreastCancerDetection\\\\IDC_regular_ps50_idx5\\\\10253\\\\1\\\\10253_idx5_x501_y351_class1.png',\n",
       " 'D:\\\\Jupyter Notebook\\\\BreastCancerDetection\\\\IDC_regular_ps50_idx5\\\\10253\\\\1\\\\10253_idx5_x501_y401_class1.png',\n",
       " 'D:\\\\Jupyter Notebook\\\\BreastCancerDetection\\\\IDC_regular_ps50_idx5\\\\10253\\\\1\\\\10253_idx5_x551_y301_class1.png',\n",
       " 'D:\\\\Jupyter Notebook\\\\BreastCancerDetection\\\\IDC_regular_ps50_idx5\\\\10253\\\\1\\\\10253_idx5_x551_y351_class1.png',\n",
       " 'D:\\\\Jupyter Notebook\\\\BreastCancerDetection\\\\IDC_regular_ps50_idx5\\\\10253\\\\1\\\\10253_idx5_x551_y401_class1.png']"
      ]
     },
     "execution_count": 5,
     "metadata": {},
     "output_type": "execute_result"
    }
   ],
   "source": [
    "P_IDC[:5]"
   ]
  },
  {
   "cell_type": "code",
   "execution_count": 6,
   "id": "e2beeff8",
   "metadata": {},
   "outputs": [
    {
     "name": "stdout",
     "output_type": "stream",
     "text": [
      "Number of negative test IDC : 198738\n",
      "Number of positive test IDC : 78786\n"
     ]
    }
   ],
   "source": [
    "print(\"Number of negative test IDC : \"+str(len(N_IDC)))\n",
    "print(\"Number of positive test IDC : \"+str(len(P_IDC)))"
   ]
  },
  {
   "cell_type": "markdown",
   "id": "84e989a4",
   "metadata": {},
   "source": [
    "### Since we know there is a clear imbalance we will crop down the size of the images. The problem is that ideally we should have taken both the sizes as 78,786 for each but we will drop it down even more further because it is throwing memory error for that much amount of data. So, 50,000 sounds good.\n",
    "\n",
    "### update 1: It is throwing memory error even at 50,000 so dropping it down to 40,000 samples.\n",
    "\n",
    "### update 2: Same, dropping it to 35,000"
   ]
  },
  {
   "cell_type": "code",
   "execution_count": 7,
   "id": "fdaf7229",
   "metadata": {},
   "outputs": [
    {
     "data": {
      "text/plain": [
       "35000"
      ]
     },
     "execution_count": 7,
     "metadata": {},
     "output_type": "execute_result"
    }
   ],
   "source": [
    "NEW_SIZE = 35000\n",
    "\n",
    "N_IDC = N_IDC[:NEW_SIZE]\n",
    "P_IDC = P_IDC[:NEW_SIZE]\n",
    "len(N_IDC)"
   ]
  },
  {
   "cell_type": "markdown",
   "id": "9eb9fa34",
   "metadata": {},
   "source": [
    "### Printing random images."
   ]
  },
  {
   "cell_type": "code",
   "execution_count": 8,
   "id": "ea07f2ca",
   "metadata": {},
   "outputs": [
    {
     "data": {
      "text/plain": [
       "array([ 3615, 30694, 16870, 15973])"
      ]
     },
     "execution_count": 8,
     "metadata": {},
     "output_type": "execute_result"
    }
   ],
   "source": [
    "random_indicies = np.random.randint(50, NEW_SIZE, 4) #low,high,number of elements\n",
    "random_indicies"
   ]
  },
  {
   "cell_type": "code",
   "execution_count": 9,
   "id": "2c15dd7b",
   "metadata": {},
   "outputs": [
    {
     "data": {
      "image/png": "[encoded data removed]",
      "text/plain": [
       "<Figure size 1080x1080 with 4 Axes>"
      ]
     },
     "metadata": {
      "needs_background": "light"
     },
     "output_type": "display_data"
    }
   ],
   "source": [
    "plt.figure(figsize=(15,15))\n",
    "for i in range(4):\n",
    "    img = image.load_img(N_IDC[random_indicies[i]])\n",
    "    plt.subplot(1,4,1+i)\n",
    "    plt.imshow(img)\n",
    "    plt.title('IDC(-ve)')"
   ]
  },
  {
   "cell_type": "code",
   "execution_count": 10,
   "id": "b9a988dd",
   "metadata": {},
   "outputs": [
    {
     "data": {
      "image/png": "[encoded data removed]",
      "text/plain": [
       "<Figure size 1080x1080 with 4 Axes>"
      ]
     },
     "metadata": {
      "needs_background": "light"
     },
     "output_type": "display_data"
    }
   ],
   "source": [
    "plt.figure(figsize=(15,15))\n",
    "for i in range(4):\n",
    "    img = image.load_img(P_IDC[random_indicies[i]])\n",
    "    plt.subplot(1,4,1+i)\n",
    "    plt.imshow(img)\n",
    "    plt.title('IDC(+ve)')"
   ]
  },
  {
   "cell_type": "markdown",
   "id": "26e8ba4c",
   "metadata": {},
   "source": [
    "### Now reading the paths of image with cv2 and storing in a np.array format."
   ]
  },
  {
   "cell_type": "code",
   "execution_count": 11,
   "id": "ec469400",
   "metadata": {},
   "outputs": [
    {
     "name": "stderr",
     "output_type": "stream",
     "text": [
      "C:\\Users\\kunal\\AppData\\Local\\Temp\\ipykernel_13608\\1744614145.py:3: DeprecationWarning: `np.float` is a deprecated alias for the builtin `float`. To silence this warning, use `float` by itself. Doing this will not modify any behavior and is safe. If you specifically wanted the numpy scalar type, use `np.float64` here.\n",
      "Deprecated in NumPy 1.20; for more details and guidance: https://numpy.org/devdocs/release/1.20.0-notes.html#deprecations\n",
      "  image_N_IDC = np.zeros(shape=(len(N_IDC),50,50,3),dtype=np.float)\n",
      "C:\\Users\\kunal\\AppData\\Local\\Temp\\ipykernel_13608\\1744614145.py:4: DeprecationWarning: `np.float` is a deprecated alias for the builtin `float`. To silence this warning, use `float` by itself. Doing this will not modify any behavior and is safe. If you specifically wanted the numpy scalar type, use `np.float64` here.\n",
      "Deprecated in NumPy 1.20; for more details and guidance: https://numpy.org/devdocs/release/1.20.0-notes.html#deprecations\n",
      "  image_P_IDC = np.zeros(shape=(len(N_IDC),50,50,3),dtype=np.float)\n",
      "35000it [01:52, 312.27it/s]\n",
      "35000it [01:49, 318.34it/s]\n"
     ]
    }
   ],
   "source": [
    "#Since, the lists N_IDC and P_IDC contains paths,\n",
    "#So, we will create 2 more empty arrays of fixed dimension that will contain the pixel info in np.array form.\n",
    "image_N_IDC = np.zeros(shape=(len(N_IDC),50,50,3),dtype=np.float)\n",
    "image_P_IDC = np.zeros(shape=(len(N_IDC),50,50,3),dtype=np.float)\n",
    "\n",
    "#Side by side will create 2 more lists that will contain the list of targets for both.\n",
    "target_N_IDC, target_P_IDC = [], [] #Firstwill contain only '0's and second with only '1's.\n",
    "\n",
    "#keep in mind that there a few images inside these folders that are cropped i.e. not of the dimension 50x50.\n",
    "#So for that we will have to resize ever image. Those who are already of the same size will remain the same but those which..\n",
    "#are not will change to 50x50x3.\n",
    "\n",
    "for i,image_path in tqdm(enumerate(N_IDC)):\n",
    "    image_array = cv2.imread(image_path,cv2.IMREAD_COLOR)#First will have to read the path and store as an image.\n",
    "    #Only then we can change the shape. We can NOT directly use the .resize() function.\n",
    "    resized_image_array = cv2.resize(image_array,(50,50),interpolation = cv2.INTER_LINEAR)\n",
    "    #We will give it the image_array, the desired dimension we want and the method of interpolation.\n",
    "    #The interpolation part looks complex but actually isn't, we are just specifying a method to change dimensions.\n",
    "    image_N_IDC[i]=resized_image_array#Notice we are not adding/appending anything here.\n",
    "    #We updateding the image_N_IDC array and hence toggling through the array with [i]\n",
    "    target_N_IDC.append(0)\n",
    "    \n",
    "#same with posiktive data.\n",
    "for i,image_path in tqdm(enumerate(P_IDC)):\n",
    "    image_array = cv2.imread(image_path,cv2.IMREAD_COLOR)#First will have to read the path and store as an image.\n",
    "    #Only then we can change the shape. We can NOT directly use the .resize() function.\n",
    "    resized_image_array = cv2.resize(image_array,(50,50),interpolation = cv2.INTER_LINEAR)\n",
    "    image_P_IDC[i]=resized_image_array#Notice we are not adding/appending anything here.\n",
    "    #We updateding the image_N_IDC array and hence toggling through the array with [i]\n",
    "    target_P_IDC.append(1)\n",
    "    \n",
    "#This code will take a descent amount of time, be patient."
   ]
  },
  {
   "cell_type": "code",
   "execution_count": 12,
   "id": "fb8bb4c1",
   "metadata": {},
   "outputs": [
    {
     "name": "stdout",
     "output_type": "stream",
     "text": [
      "image array size for negative: (35000, 50, 50, 3)\n",
      "image array size for positve:  (35000, 50, 50, 3)\n"
     ]
    }
   ],
   "source": [
    "print(\"image array size for negative: \"+str(image_N_IDC.shape))\n",
    "print(\"image array size for positve:  \"+str(image_P_IDC.shape))"
   ]
  },
  {
   "cell_type": "markdown",
   "id": "b4c0cd77",
   "metadata": {},
   "source": [
    "### Now joining the negative and positive image arrays."
   ]
  },
  {
   "cell_type": "code",
   "execution_count": 13,
   "id": "0091cc5a",
   "metadata": {},
   "outputs": [],
   "source": [
    "#We do that with a function called 'concatenate' \n",
    "inputs = np.concatenate((image_N_IDC, image_P_IDC), axis = 0)#axis=0 says that added in terms of rows, one below the other.\n",
    "targets = np.concatenate((target_N_IDC, target_P_IDC), axis = 0)\n",
    "\n",
    "#This code will take a descent amount of time, be patient."
   ]
  },
  {
   "cell_type": "code",
   "execution_count": 14,
   "id": "7c62226b",
   "metadata": {},
   "outputs": [
    {
     "name": "stdout",
     "output_type": "stream",
     "text": [
      "new input image array size: (70000, 50, 50, 3)\n",
      "new target size:  (70000,)\n"
     ]
    }
   ],
   "source": [
    "print(\"new input image array size: \"+str(inputs.shape))\n",
    "print(\"new target size:  \"+str(targets.shape))"
   ]
  },
  {
   "cell_type": "markdown",
   "id": "3982d996",
   "metadata": {},
   "source": [
    "### Shuffling the data to completely randomize the data. "
   ]
  },
  {
   "cell_type": "code",
   "execution_count": 15,
   "id": "e61fddf3",
   "metadata": {},
   "outputs": [],
   "source": [
    "inputs ,targets = shuffle(inputs , targets, random_state = 0)#Notice that we call the shuffle function at once...\n",
    "#simultaniously to maintain the shuffle order with the targets data.\n",
    "\n",
    "#This code will take a descent amount of time, be patient."
   ]
  },
  {
   "cell_type": "markdown",
   "id": "82712f1b",
   "metadata": {},
   "source": [
    "### Splitting data into test and train data."
   ]
  },
  {
   "cell_type": "code",
   "execution_count": 16,
   "id": "ec7a709b",
   "metadata": {
    "scrolled": true
   },
   "outputs": [
    {
     "data": {
      "text/plain": [
       "(63000, 50, 50, 3)"
      ]
     },
     "execution_count": 16,
     "metadata": {},
     "output_type": "execute_result"
    }
   ],
   "source": [
    "x_train,x_test,y_train,y_test = train_test_split(inputs,targets,test_size=0.1)\n",
    "x_train.shape\n",
    "#This code will take a descent amount of time, be patient."
   ]
  },
  {
   "cell_type": "code",
   "execution_count": 17,
   "id": "cf88b9ab",
   "metadata": {},
   "outputs": [
    {
     "data": {
      "text/plain": [
       "(63000,)"
      ]
     },
     "execution_count": 17,
     "metadata": {},
     "output_type": "execute_result"
    }
   ],
   "source": [
    "y_train.shape"
   ]
  },
  {
   "cell_type": "markdown",
   "id": "bde6939b",
   "metadata": {},
   "source": [
    "### Splitting the training data further into train and validation data."
   ]
  },
  {
   "cell_type": "code",
   "execution_count": 18,
   "id": "6bb66831",
   "metadata": {},
   "outputs": [
    {
     "data": {
      "text/plain": [
       "(50400, 50, 50, 3)"
      ]
     },
     "execution_count": 18,
     "metadata": {},
     "output_type": "execute_result"
    }
   ],
   "source": [
    "x_train,x_validation,y_train,y_validation = train_test_split(x_train ,y_train ,test_size=0.2)\n",
    "x_train.shape\n",
    "\n",
    "#This code will take a descent amount of time, be patient."
   ]
  },
  {
   "cell_type": "code",
   "execution_count": 19,
   "id": "0fdca279",
   "metadata": {},
   "outputs": [
    {
     "data": {
      "text/plain": [
       "(12600, 50, 50, 3)"
      ]
     },
     "execution_count": 19,
     "metadata": {},
     "output_type": "execute_result"
    }
   ],
   "source": [
    "x_validation.shape"
   ]
  },
  {
   "cell_type": "markdown",
   "id": "a24b9ff8",
   "metadata": {},
   "source": [
    "### Now creating the model itself."
   ]
  },
  {
   "cell_type": "code",
   "execution_count": 20,
   "id": "fe3b89c5",
   "metadata": {},
   "outputs": [],
   "source": [
    "input_size = 50*50*3\n",
    "output_size = 2 #Since we want the to deteermine +ve or -ve test for IDC\n",
    "\n",
    "model = tf.keras.Sequential([\n",
    "                            tf.keras.layers.Conv2D(filters=32,kernel_size=(6,6),activation='relu',input_shape=(50,50,3)),\n",
    "                            tf.keras.layers.MaxPooling2D((2,2)), #This is the first hidden layer.\n",
    "                            #using 32 filters for the first hidden layer.\n",
    "                            \n",
    "                            tf.keras.layers.Conv2D(filters=64,kernel_size=(5,5),activation='relu'),\n",
    "                            tf.keras.layers.MaxPooling2D((2,2)), #This is the second hidden layer.\n",
    "                            #using 64 filters for the second hidden layer.\n",
    "    \n",
    "                            tf.keras.layers.Conv2D(filters=128,kernel_size=(4,4),activation='relu'),\n",
    "                            tf.keras.layers.MaxPooling2D((2,2)), #This is the third hidden layer.\n",
    "                            #using 96 filters for the second hidden layer.\n",
    "                            \n",
    "                            tf.keras.layers.Flatten(), #The values and all will be intact of the 4th hidden layer\n",
    "    \n",
    "                            tf.keras.layers.Dense(1000,activation='relu'),   #5th layer  \n",
    "    \n",
    "                            tf.keras.layers.Dense(500,activation='relu'),   #6th layer  \n",
    "                            \n",
    "                            tf.keras.layers.Dense(100,activation='relu'),    #7th layer\n",
    "                            \n",
    "                            tf.keras.layers.Dense(output_size,activation='softmax') #Final 8th layer\n",
    "                            #our model will predict.\n",
    "                            \n",
    "                            ]) #Notice for the activation we ues softmax, Since we want to give probality."
   ]
  },
  {
   "cell_type": "code",
   "execution_count": 21,
   "id": "4895cca6",
   "metadata": {},
   "outputs": [],
   "source": [
    "model.compile(optimizer='adam',loss='sparse_categorical_crossentropy',metrics=['accuracy'])"
   ]
  },
  {
   "cell_type": "code",
   "execution_count": 22,
   "id": "6af714ae",
   "metadata": {},
   "outputs": [
    {
     "name": "stdout",
     "output_type": "stream",
     "text": [
      "Model: \"sequential\"\n",
      "_________________________________________________________________\n",
      " Layer (type)                Output Shape              Param #   \n",
      "=================================================================\n",
      " conv2d (Conv2D)             (None, 45, 45, 32)        3488      \n",
      "                                                                 \n",
      " max_pooling2d (MaxPooling2  (None, 22, 22, 32)        0         \n",
      " D)                                                              \n",
      "                                                                 \n",
      " conv2d_1 (Conv2D)           (None, 18, 18, 64)        51264     \n",
      "                                                                 \n",
      " max_pooling2d_1 (MaxPoolin  (None, 9, 9, 64)          0         \n",
      " g2D)                                                            \n",
      "                                                                 \n",
      " conv2d_2 (Conv2D)           (None, 6, 6, 128)         131200    \n",
      "                                                                 \n",
      " max_pooling2d_2 (MaxPoolin  (None, 3, 3, 128)         0         \n",
      " g2D)                                                            \n",
      "                                                                 \n",
      " flatten (Flatten)           (None, 1152)              0         \n",
      "                                                                 \n",
      " dense (Dense)               (None, 1000)              1153000   \n",
      "                                                                 \n",
      " dense_1 (Dense)             (None, 500)               500500    \n",
      "                                                                 \n",
      " dense_2 (Dense)             (None, 100)               50100     \n",
      "                                                                 \n",
      " dense_3 (Dense)             (None, 2)                 202       \n",
      "                                                                 \n",
      "=================================================================\n",
      "Total params: 1889754 (7.21 MB)\n",
      "Trainable params: 1889754 (7.21 MB)\n",
      "Non-trainable params: 0 (0.00 Byte)\n",
      "_________________________________________________________________\n"
     ]
    }
   ],
   "source": [
    "model.summary()"
   ]
  },
  {
   "cell_type": "code",
   "execution_count": 23,
   "id": "c6a5fef3",
   "metadata": {},
   "outputs": [
    {
     "name": "stdout",
     "output_type": "stream",
     "text": [
      "Epoch 1/50\n",
      "504/504 [==============================] - 135s 264ms/step - loss: 0.8873 - accuracy: 0.5773 - val_loss: 0.6141 - val_accuracy: 0.6712\n",
      "Epoch 2/50\n",
      "504/504 [==============================] - 138s 274ms/step - loss: 0.6016 - accuracy: 0.6784 - val_loss: 0.5271 - val_accuracy: 0.7371\n",
      "Epoch 3/50\n",
      "504/504 [==============================] - 127s 251ms/step - loss: 0.5263 - accuracy: 0.7411 - val_loss: 0.5004 - val_accuracy: 0.7562\n",
      "Epoch 4/50\n",
      "504/504 [==============================] - 128s 255ms/step - loss: 0.5076 - accuracy: 0.7522 - val_loss: 0.5161 - val_accuracy: 0.7471\n"
     ]
    }
   ],
   "source": [
    "NUM_EPOCHS = 50\n",
    "BATCH_SIZE = 100\n",
    "#The above are our hyperparamters and we will tune it according to our analysis.\n",
    "\n",
    "early_stopping = tf.keras.callbacks.EarlyStopping() #Will instantly stop the process if it detects a increase in validation_acc\n",
    "history = model.fit(x_train,\n",
    "                    y_train, \n",
    "                    epochs=NUM_EPOCHS,\n",
    "                    validation_data=(x_validation,y_validation),\n",
    "                    callbacks = [early_stopping],\n",
    "                    batch_size = BATCH_SIZE,\n",
    "                    verbose=1)"
   ]
  },
  {
   "cell_type": "code",
   "execution_count": 24,
   "id": "8e6c5411",
   "metadata": {},
   "outputs": [],
   "source": [
    "history.history??"
   ]
  },
  {
   "cell_type": "code",
   "execution_count": 25,
   "id": "9eb24b35",
   "metadata": {},
   "outputs": [
    {
     "data": {
      "text/plain": [
       "Text(0.5, 1.0, 'Loss vs Epochs')"
      ]
     },
     "execution_count": 25,
     "metadata": {},
     "output_type": "execute_result"
    },
    {
     "data": {
      "image/png": "[encoded data removed]",
      "text/plain": [
       "<Figure size 432x288 with 1 Axes>"
      ]
     },
     "metadata": {
      "needs_background": "light"
     },
     "output_type": "display_data"
    }
   ],
   "source": [
    "plt.plot(history.history['loss'])\n",
    "plt.plot(history.history['val_loss'])\n",
    "plt.xlabel('epochs')\n",
    "plt.ylabel('loss')\n",
    "plt.title('Loss vs Epochs')"
   ]
  },
  {
   "cell_type": "code",
   "execution_count": 26,
   "id": "98aafd5f",
   "metadata": {},
   "outputs": [
    {
     "name": "stdout",
     "output_type": "stream",
     "text": [
      "Training accuracy : 75.21825432777405%\n",
      "Validation accuracy : 74.70635175704956%\n"
     ]
    }
   ],
   "source": [
    "print(\"Training accuracy : \" + str(history.history['accuracy'][3]*100.00)+'%')\n",
    "print(\"Validation accuracy : \" + str(history.history['val_accuracy'][3]*100.00)+'%')"
   ]
  },
  {
   "cell_type": "code",
   "execution_count": 27,
   "id": "3f60dbc9",
   "metadata": {},
   "outputs": [
    {
     "data": {
      "text/plain": [
       "Text(0.5, 1.0, 'Accuracy vs Epochs')"
      ]
     },
     "execution_count": 27,
     "metadata": {},
     "output_type": "execute_result"
    },
    {
     "data": {
      "image/png": "[encoded data removed]",
      "text/plain": [
       "<Figure size 432x288 with 1 Axes>"
      ]
     },
     "metadata": {
      "needs_background": "light"
     },
     "output_type": "display_data"
    }
   ],
   "source": [
    "plt.plot(history.history['accuracy'])\n",
    "plt.plot(history.history['val_accuracy'])\n",
    "plt.xlabel('epochs')\n",
    "plt.ylabel('Accuracy')\n",
    "plt.title('Accuracy vs Epochs')"
   ]
  },
  {
   "cell_type": "markdown",
   "id": "845ed564",
   "metadata": {},
   "source": [
    "### Now we are ready to test the model. This is no point of return, we can NOT make any changes after this."
   ]
  },
  {
   "cell_type": "code",
   "execution_count": 28,
   "id": "d30c2619",
   "metadata": {},
   "outputs": [
    {
     "name": "stdout",
     "output_type": "stream",
     "text": [
      "219/219 [==============================] - 3s 13ms/step - loss: 0.5156 - accuracy: 0.7460\n"
     ]
    }
   ],
   "source": [
    "test_loss, test_acc = model.evaluate(x_test,y_test)"
   ]
  },
  {
   "cell_type": "code",
   "execution_count": 29,
   "id": "1d8de3c3",
   "metadata": {},
   "outputs": [
    {
     "data": {
      "text/plain": [
       "0.5156068205833435"
      ]
     },
     "execution_count": 29,
     "metadata": {},
     "output_type": "execute_result"
    }
   ],
   "source": [
    "test_loss"
   ]
  },
  {
   "cell_type": "code",
   "execution_count": 30,
   "id": "0ef9f742",
   "metadata": {},
   "outputs": [
    {
     "name": "stdout",
     "output_type": "stream",
     "text": [
      "Test accuracy : 74.59999918937683\n",
      "Validation accuracy : 74.70635175704956\n"
     ]
    }
   ],
   "source": [
    "print(\"Test accuracy : \" +str(test_acc*100.00))\n",
    "print(\"Validation accuracy : \" +str(history.history['val_accuracy'][3]*100.00))"
   ]
  },
  {
   "cell_type": "code",
   "execution_count": 31,
   "id": "b9fddae5",
   "metadata": {},
   "outputs": [
    {
     "name": "stdout",
     "output_type": "stream",
     "text": [
      "219/219 [==============================] - 4s 15ms/step\n"
     ]
    }
   ],
   "source": [
    "y_prediction = model.predict(x_test)"
   ]
  },
  {
   "cell_type": "code",
   "execution_count": 32,
   "id": "8bfc2c53",
   "metadata": {},
   "outputs": [
    {
     "data": {
      "text/plain": [
       "[0,\n",
       " 1,\n",
       " 0,\n",
       " 0,\n",
       " 1,\n",
       " 1,\n",
       " 1,\n",
       " 1,\n",
       " 1,\n",
       " 0,\n",
       " 0,\n",
       " 1,\n",
       " 1,\n",
       " 1,\n",
       " 1,\n",
       " 1,\n",
       " 1,\n",
       " 1,\n",
       " 0,\n",
       " 1,\n",
       " 0,\n",
       " 1,\n",
       " 1,\n",
       " 1,\n",
       " 0,\n",
       " 1,\n",
       " 1,\n",
       " 0,\n",
       " 0,\n",
       " 1,\n",
       " 0,\n",
       " 0,\n",
       " 1,\n",
       " 0,\n",
       " 1,\n",
       " 0,\n",
       " 1,\n",
       " 1,\n",
       " 1,\n",
       " 0,\n",
       " 0,\n",
       " 0,\n",
       " 1,\n",
       " 1,\n",
       " 1,\n",
       " 0,\n",
       " 1,\n",
       " 0,\n",
       " 0,\n",
       " 1,\n",
       " 1,\n",
       " 1,\n",
       " 0,\n",
       " 1,\n",
       " 0,\n",
       " 0,\n",
       " 0,\n",
       " 0,\n",
       " 1,\n",
       " 1,\n",
       " 0,\n",
       " 1,\n",
       " 0,\n",
       " 0,\n",
       " 0,\n",
       " 0,\n",
       " 1,\n",
       " 0,\n",
       " 1,\n",
       " 1,\n",
       " 1,\n",
       " 0,\n",
       " 0,\n",
       " 1,\n",
       " 0,\n",
       " 1,\n",
       " 0,\n",
       " 0,\n",
       " 0,\n",
       " 1,\n",
       " 1,\n",
       " 1,\n",
       " 1,\n",
       " 1,\n",
       " 1,\n",
       " 0,\n",
       " 1,\n",
       " 1,\n",
       " 1,\n",
       " 1,\n",
       " 0,\n",
       " 1,\n",
       " 1,\n",
       " 1,\n",
       " 1,\n",
       " 1,\n",
       " 0,\n",
       " 0,\n",
       " 1,\n",
       " 0,\n",
       " 0,\n",
       " 1,\n",
       " 1,\n",
       " 0,\n",
       " 1,\n",
       " 1,\n",
       " 1,\n",
       " 1,\n",
       " 1,\n",
       " 1,\n",
       " 1,\n",
       " 1,\n",
       " 1,\n",
       " 0,\n",
       " 1,\n",
       " 1,\n",
       " 0,\n",
       " 1,\n",
       " 0,\n",
       " 1,\n",
       " 0,\n",
       " 1,\n",
       " 1,\n",
       " 1,\n",
       " 1,\n",
       " 0,\n",
       " 0,\n",
       " 0,\n",
       " 0,\n",
       " 0,\n",
       " 1,\n",
       " 0,\n",
       " 1,\n",
       " 0,\n",
       " 1,\n",
       " 1,\n",
       " 1,\n",
       " 1,\n",
       " 1,\n",
       " 1,\n",
       " 1,\n",
       " 0,\n",
       " 1,\n",
       " 1,\n",
       " 1,\n",
       " 1,\n",
       " 0,\n",
       " 1,\n",
       " 0,\n",
       " 1,\n",
       " 1,\n",
       " 1,\n",
       " 0,\n",
       " 0,\n",
       " 1,\n",
       " 1,\n",
       " 1,\n",
       " 1,\n",
       " 1,\n",
       " 1,\n",
       " 1,\n",
       " 1,\n",
       " 1,\n",
       " 1,\n",
       " 1,\n",
       " 0,\n",
       " 0,\n",
       " 1,\n",
       " 0,\n",
       " 1,\n",
       " 1,\n",
       " 1,\n",
       " 1,\n",
       " 0,\n",
       " 0,\n",
       " 1,\n",
       " 0,\n",
       " 1,\n",
       " 0,\n",
       " 1,\n",
       " 0,\n",
       " 1,\n",
       " 1,\n",
       " 0,\n",
       " 1,\n",
       " 1,\n",
       " 1,\n",
       " 0,\n",
       " 0,\n",
       " 0,\n",
       " 0,\n",
       " 1,\n",
       " 1,\n",
       " 1,\n",
       " 0,\n",
       " 1,\n",
       " 0,\n",
       " 1,\n",
       " 1,\n",
       " 1,\n",
       " 1,\n",
       " 1,\n",
       " 0,\n",
       " 0,\n",
       " 1,\n",
       " 0,\n",
       " 1,\n",
       " 1,\n",
       " 0,\n",
       " 1,\n",
       " 1,\n",
       " 0,\n",
       " 0,\n",
       " 1,\n",
       " 1,\n",
       " 1,\n",
       " 0,\n",
       " 1,\n",
       " 1,\n",
       " 0,\n",
       " 1,\n",
       " 1,\n",
       " 1,\n",
       " 0,\n",
       " 0,\n",
       " 1,\n",
       " 1,\n",
       " 1,\n",
       " 0,\n",
       " 1,\n",
       " 0,\n",
       " 0,\n",
       " 0,\n",
       " 0,\n",
       " 1,\n",
       " 0,\n",
       " 1,\n",
       " 1,\n",
       " 1,\n",
       " 0,\n",
       " 0,\n",
       " 1,\n",
       " 1,\n",
       " 0,\n",
       " 1,\n",
       " 1,\n",
       " 1,\n",
       " 1,\n",
       " 1,\n",
       " 0,\n",
       " 1,\n",
       " 0,\n",
       " 0,\n",
       " 1,\n",
       " 0,\n",
       " 1,\n",
       " 1,\n",
       " 1,\n",
       " 1,\n",
       " 0,\n",
       " 1,\n",
       " 0,\n",
       " 0,\n",
       " 1,\n",
       " 1,\n",
       " 1,\n",
       " 0,\n",
       " 1,\n",
       " 1,\n",
       " 1,\n",
       " 0,\n",
       " 0,\n",
       " 1,\n",
       " 0,\n",
       " 0,\n",
       " 1,\n",
       " 0,\n",
       " 0,\n",
       " 1,\n",
       " 1,\n",
       " 1,\n",
       " 0,\n",
       " 1,\n",
       " 1,\n",
       " 1,\n",
       " 1,\n",
       " 0,\n",
       " 1,\n",
       " 0,\n",
       " 1,\n",
       " 0,\n",
       " 1,\n",
       " 0,\n",
       " 1,\n",
       " 0,\n",
       " 1,\n",
       " 1,\n",
       " 0,\n",
       " 1,\n",
       " 1,\n",
       " 0,\n",
       " 1,\n",
       " 0,\n",
       " 1,\n",
       " 1,\n",
       " 0,\n",
       " 0,\n",
       " 0,\n",
       " 1,\n",
       " 1,\n",
       " 1,\n",
       " 1,\n",
       " 0,\n",
       " 1,\n",
       " 1,\n",
       " 1,\n",
       " 1,\n",
       " 0,\n",
       " 0,\n",
       " 0,\n",
       " 1,\n",
       " 1,\n",
       " 0,\n",
       " 0,\n",
       " 1,\n",
       " 1,\n",
       " 0,\n",
       " 1,\n",
       " 0,\n",
       " 0,\n",
       " 1,\n",
       " 0,\n",
       " 1,\n",
       " 1,\n",
       " 1,\n",
       " 1,\n",
       " 1,\n",
       " 1,\n",
       " 0,\n",
       " 0,\n",
       " 0,\n",
       " 1,\n",
       " 1,\n",
       " 1,\n",
       " 1,\n",
       " 1,\n",
       " 1,\n",
       " 1,\n",
       " 0,\n",
       " 1,\n",
       " 0,\n",
       " 1,\n",
       " 0,\n",
       " 1,\n",
       " 1,\n",
       " 0,\n",
       " 1,\n",
       " 0,\n",
       " 0,\n",
       " 0,\n",
       " 1,\n",
       " 0,\n",
       " 0,\n",
       " 0,\n",
       " 0,\n",
       " 0,\n",
       " 0,\n",
       " 0,\n",
       " 1,\n",
       " 1,\n",
       " 0,\n",
       " 1,\n",
       " 1,\n",
       " 1,\n",
       " 1,\n",
       " 1,\n",
       " 0,\n",
       " 1,\n",
       " 1,\n",
       " 0,\n",
       " 1,\n",
       " 1,\n",
       " 0,\n",
       " 0,\n",
       " 1,\n",
       " 1,\n",
       " 0,\n",
       " 1,\n",
       " 1,\n",
       " 1,\n",
       " 1,\n",
       " 0,\n",
       " 1,\n",
       " 0,\n",
       " 1,\n",
       " 1,\n",
       " 1,\n",
       " 1,\n",
       " 0,\n",
       " 1,\n",
       " 0,\n",
       " 1,\n",
       " 1,\n",
       " 1,\n",
       " 0,\n",
       " 1,\n",
       " 0,\n",
       " 1,\n",
       " 0,\n",
       " 1,\n",
       " 1,\n",
       " 1,\n",
       " 1,\n",
       " 1,\n",
       " 1,\n",
       " 1,\n",
       " 0,\n",
       " 0,\n",
       " 1,\n",
       " 1,\n",
       " 1,\n",
       " 0,\n",
       " 1,\n",
       " 0,\n",
       " 1,\n",
       " 1,\n",
       " 1,\n",
       " 1,\n",
       " 0,\n",
       " 1,\n",
       " 0,\n",
       " 0,\n",
       " 0,\n",
       " 0,\n",
       " 0,\n",
       " 0,\n",
       " 1,\n",
       " 0,\n",
       " 0,\n",
       " 1,\n",
       " 1,\n",
       " 1,\n",
       " 0,\n",
       " 1,\n",
       " 0,\n",
       " 0,\n",
       " 0,\n",
       " 0,\n",
       " 0,\n",
       " 0,\n",
       " 1,\n",
       " 1,\n",
       " 1,\n",
       " 1,\n",
       " 1,\n",
       " 1,\n",
       " 1,\n",
       " 1,\n",
       " 1,\n",
       " 0,\n",
       " 1,\n",
       " 1,\n",
       " 0,\n",
       " 0,\n",
       " 1,\n",
       " 1,\n",
       " 1,\n",
       " 0,\n",
       " 0,\n",
       " 1,\n",
       " 1,\n",
       " 0,\n",
       " 1,\n",
       " 0,\n",
       " 0,\n",
       " 1,\n",
       " 0,\n",
       " 1,\n",
       " 0,\n",
       " 1,\n",
       " 1,\n",
       " 0,\n",
       " 0,\n",
       " 1,\n",
       " 0,\n",
       " 1,\n",
       " 1,\n",
       " 1,\n",
       " 1,\n",
       " 0,\n",
       " 0,\n",
       " 1,\n",
       " 1,\n",
       " 1,\n",
       " 1,\n",
       " 0,\n",
       " 1,\n",
       " 1,\n",
       " 0,\n",
       " 1,\n",
       " 1,\n",
       " 1,\n",
       " 1,\n",
       " 0,\n",
       " 0,\n",
       " 1,\n",
       " 0,\n",
       " 0,\n",
       " 0,\n",
       " 1,\n",
       " 0,\n",
       " 1,\n",
       " 0,\n",
       " 1,\n",
       " 1,\n",
       " 0,\n",
       " 1,\n",
       " 0,\n",
       " 0,\n",
       " 1,\n",
       " 0,\n",
       " 1,\n",
       " 1,\n",
       " 1,\n",
       " 1,\n",
       " 0,\n",
       " 0,\n",
       " 0,\n",
       " 1,\n",
       " 1,\n",
       " 1,\n",
       " 1,\n",
       " 0,\n",
       " 1,\n",
       " 1,\n",
       " 1,\n",
       " 0,\n",
       " 0,\n",
       " 1,\n",
       " 0,\n",
       " 1,\n",
       " 1,\n",
       " 0,\n",
       " 0,\n",
       " 0,\n",
       " 0,\n",
       " 1,\n",
       " 1,\n",
       " 0,\n",
       " 1,\n",
       " 1,\n",
       " 1,\n",
       " 1,\n",
       " 1,\n",
       " 1,\n",
       " 1,\n",
       " 0,\n",
       " 1,\n",
       " 1,\n",
       " 1,\n",
       " 1,\n",
       " 1,\n",
       " 0,\n",
       " 1,\n",
       " 0,\n",
       " 0,\n",
       " 0,\n",
       " 1,\n",
       " 1,\n",
       " 0,\n",
       " 0,\n",
       " 0,\n",
       " 1,\n",
       " 1,\n",
       " 0,\n",
       " 1,\n",
       " 1,\n",
       " 1,\n",
       " 1,\n",
       " 0,\n",
       " 0,\n",
       " 0,\n",
       " 0,\n",
       " 1,\n",
       " 0,\n",
       " 1,\n",
       " 1,\n",
       " 1,\n",
       " 1,\n",
       " 1,\n",
       " 1,\n",
       " 1,\n",
       " 1,\n",
       " 1,\n",
       " 1,\n",
       " 1,\n",
       " 1,\n",
       " 0,\n",
       " 0,\n",
       " 0,\n",
       " 1,\n",
       " 0,\n",
       " 1,\n",
       " 1,\n",
       " 1,\n",
       " 1,\n",
       " 1,\n",
       " 1,\n",
       " 0,\n",
       " 0,\n",
       " 0,\n",
       " 1,\n",
       " 1,\n",
       " 0,\n",
       " 1,\n",
       " 1,\n",
       " 1,\n",
       " 1,\n",
       " 1,\n",
       " 1,\n",
       " 1,\n",
       " 0,\n",
       " 1,\n",
       " 1,\n",
       " 1,\n",
       " 1,\n",
       " 0,\n",
       " 1,\n",
       " 0,\n",
       " 0,\n",
       " 1,\n",
       " 0,\n",
       " 1,\n",
       " 0,\n",
       " 0,\n",
       " 1,\n",
       " 1,\n",
       " 1,\n",
       " 1,\n",
       " 0,\n",
       " 1,\n",
       " 0,\n",
       " 0,\n",
       " 1,\n",
       " 0,\n",
       " 0,\n",
       " 1,\n",
       " 1,\n",
       " 1,\n",
       " 0,\n",
       " 1,\n",
       " 0,\n",
       " 0,\n",
       " 1,\n",
       " 1,\n",
       " 1,\n",
       " 1,\n",
       " 1,\n",
       " 1,\n",
       " 0,\n",
       " 1,\n",
       " 0,\n",
       " 1,\n",
       " 1,\n",
       " 1,\n",
       " 0,\n",
       " 1,\n",
       " 0,\n",
       " 1,\n",
       " 1,\n",
       " 1,\n",
       " 1,\n",
       " 0,\n",
       " 1,\n",
       " 0,\n",
       " 1,\n",
       " 0,\n",
       " 1,\n",
       " 1,\n",
       " 1,\n",
       " 1,\n",
       " 1,\n",
       " 1,\n",
       " 1,\n",
       " 1,\n",
       " 1,\n",
       " 1,\n",
       " 0,\n",
       " 1,\n",
       " 0,\n",
       " 1,\n",
       " 0,\n",
       " 1,\n",
       " 0,\n",
       " 0,\n",
       " 1,\n",
       " 0,\n",
       " 1,\n",
       " 1,\n",
       " 1,\n",
       " 0,\n",
       " 1,\n",
       " 1,\n",
       " 1,\n",
       " 0,\n",
       " 1,\n",
       " 1,\n",
       " 1,\n",
       " 1,\n",
       " 0,\n",
       " 1,\n",
       " 1,\n",
       " 1,\n",
       " 0,\n",
       " 0,\n",
       " 1,\n",
       " 0,\n",
       " 1,\n",
       " 1,\n",
       " 1,\n",
       " 1,\n",
       " 0,\n",
       " 1,\n",
       " 1,\n",
       " 1,\n",
       " 1,\n",
       " 0,\n",
       " 1,\n",
       " 1,\n",
       " 1,\n",
       " 1,\n",
       " 1,\n",
       " 1,\n",
       " 1,\n",
       " 1,\n",
       " 0,\n",
       " 0,\n",
       " 1,\n",
       " 1,\n",
       " 1,\n",
       " 0,\n",
       " 1,\n",
       " 1,\n",
       " 1,\n",
       " 1,\n",
       " 1,\n",
       " 1,\n",
       " 0,\n",
       " 1,\n",
       " 1,\n",
       " 1,\n",
       " 1,\n",
       " 1,\n",
       " 0,\n",
       " 1,\n",
       " 0,\n",
       " 0,\n",
       " 1,\n",
       " 1,\n",
       " 0,\n",
       " 1,\n",
       " 1,\n",
       " 1,\n",
       " 1,\n",
       " 0,\n",
       " 1,\n",
       " 0,\n",
       " 1,\n",
       " 1,\n",
       " 0,\n",
       " 1,\n",
       " 1,\n",
       " 1,\n",
       " 1,\n",
       " 1,\n",
       " 1,\n",
       " 1,\n",
       " 1,\n",
       " 1,\n",
       " 1,\n",
       " 1,\n",
       " 0,\n",
       " 1,\n",
       " 0,\n",
       " 1,\n",
       " 1,\n",
       " 1,\n",
       " 1,\n",
       " 1,\n",
       " 0,\n",
       " 1,\n",
       " 1,\n",
       " 0,\n",
       " 1,\n",
       " 1,\n",
       " 1,\n",
       " 1,\n",
       " 1,\n",
       " 1,\n",
       " 1,\n",
       " 1,\n",
       " 0,\n",
       " 1,\n",
       " 1,\n",
       " 1,\n",
       " 0,\n",
       " 1,\n",
       " 1,\n",
       " 0,\n",
       " 1,\n",
       " 1,\n",
       " 0,\n",
       " 0,\n",
       " 0,\n",
       " 1,\n",
       " 1,\n",
       " 1,\n",
       " 1,\n",
       " 0,\n",
       " 1,\n",
       " 0,\n",
       " 0,\n",
       " 1,\n",
       " 1,\n",
       " 0,\n",
       " 0,\n",
       " 1,\n",
       " 1,\n",
       " 0,\n",
       " 1,\n",
       " 0,\n",
       " 1,\n",
       " 0,\n",
       " 1,\n",
       " 1,\n",
       " 0,\n",
       " 1,\n",
       " 1,\n",
       " 1,\n",
       " 1,\n",
       " 1,\n",
       " 1,\n",
       " 0,\n",
       " 0,\n",
       " 1,\n",
       " 1,\n",
       " 1,\n",
       " 1,\n",
       " 0,\n",
       " 0,\n",
       " 1,\n",
       " 0,\n",
       " 0,\n",
       " 1,\n",
       " 1,\n",
       " 1,\n",
       " 1,\n",
       " 1,\n",
       " 1,\n",
       " 0,\n",
       " 1,\n",
       " 0,\n",
       " 0,\n",
       " 1,\n",
       " 1,\n",
       " 0,\n",
       " 1,\n",
       " 1,\n",
       " 1,\n",
       " 0,\n",
       " 1,\n",
       " 1,\n",
       " 1,\n",
       " 1,\n",
       " 0,\n",
       " 1,\n",
       " 0,\n",
       " 1,\n",
       " 0,\n",
       " 0,\n",
       " 1,\n",
       " 1,\n",
       " 1,\n",
       " 1,\n",
       " 0,\n",
       " 0,\n",
       " 0,\n",
       " 0,\n",
       " 0,\n",
       " 0,\n",
       " 0,\n",
       " 1,\n",
       " 0,\n",
       " 1,\n",
       " 1,\n",
       " 1,\n",
       " 0,\n",
       " 1,\n",
       " 1,\n",
       " 0,\n",
       " 0,\n",
       " 1,\n",
       " 0,\n",
       " 1,\n",
       " 1,\n",
       " 1,\n",
       " 0,\n",
       " 0,\n",
       " 1,\n",
       " 0,\n",
       " 1,\n",
       " 1,\n",
       " 1,\n",
       " 1,\n",
       " 0,\n",
       " 1,\n",
       " 1,\n",
       " 0,\n",
       " 0,\n",
       " 1,\n",
       " 1,\n",
       " 0,\n",
       " 0,\n",
       " 0,\n",
       " 1,\n",
       " 1,\n",
       " 1,\n",
       " 1,\n",
       " 1,\n",
       " 1,\n",
       " 0,\n",
       " 0,\n",
       " 1,\n",
       " 1,\n",
       " 0,\n",
       " 0,\n",
       " 0,\n",
       " 1,\n",
       " 1,\n",
       " 1,\n",
       " 0,\n",
       " 0,\n",
       " 1,\n",
       " 0,\n",
       " 1,\n",
       " 0,\n",
       " 1,\n",
       " 0,\n",
       " 1,\n",
       " 1,\n",
       " 1,\n",
       " 0,\n",
       " 1,\n",
       " 1,\n",
       " 0,\n",
       " 1,\n",
       " 1,\n",
       " 1,\n",
       " 1,\n",
       " 0,\n",
       " 1,\n",
       " 1,\n",
       " 0,\n",
       " 1,\n",
       " 0,\n",
       " 1,\n",
       " 1,\n",
       " 0,\n",
       " 1,\n",
       " 1,\n",
       " 1,\n",
       " 0,\n",
       " 1,\n",
       " 0,\n",
       " 1,\n",
       " 0,\n",
       " 1,\n",
       " 1,\n",
       " 1,\n",
       " 1,\n",
       " 0,\n",
       " 0,\n",
       " 1,\n",
       " 0,\n",
       " 1,\n",
       " 1,\n",
       " 1,\n",
       " 1,\n",
       " 1,\n",
       " 1,\n",
       " 0,\n",
       " 1,\n",
       " 1,\n",
       " 1,\n",
       " 1,\n",
       " 1,\n",
       " 0,\n",
       " 1,\n",
       " 1,\n",
       " 1,\n",
       " ...]"
      ]
     },
     "execution_count": 32,
     "metadata": {},
     "output_type": "execute_result"
    }
   ],
   "source": [
    "y_prediction = [np.argmax(arr) for arr in y_prediction] #argmax() will return the index of the element inside the list with...\n",
    "#maximum value. Basicly it's prediction but hardmax.\n",
    "#So, this matrix will hold the prediction number out of 10.\n",
    "y_prediction"
   ]
  },
  {
   "cell_type": "code",
   "execution_count": 33,
   "id": "9a095217",
   "metadata": {},
   "outputs": [
    {
     "data": {
      "text/plain": [
       "Text(102.5, 0.5, 'True')"
      ]
     },
     "execution_count": 33,
     "metadata": {},
     "output_type": "execute_result"
    },
    {
     "data": {
      "image/png": "[encoded data removed]",
      "text/plain": [
       "<Figure size 1008x504 with 2 Axes>"
      ]
     },
     "metadata": {
      "needs_background": "light"
     },
     "output_type": "display_data"
    }
   ],
   "source": [
    "plt.figure(figsize=(14,7))\n",
    "sns.heatmap(confusion_matrix(y_test,y_prediction),annot=True)\n",
    "plt.xlabel('Prediction')\n",
    "plt.ylabel('True')"
   ]
  },
  {
   "cell_type": "code",
   "execution_count": null,
   "id": "bf461712",
   "metadata": {},
   "outputs": [],
   "source": []
  }
 ],
 "metadata": {
  "kernelspec": {
   "display_name": "Python 3 (ipykernel)",
   "language": "python",
   "name": "python3"
  },
  "language_info": {
   "codemirror_mode": {
    "name": "ipython",
    "version": 3
   },
   "file_extension": ".py",
   "mimetype": "text/x-python",
   "name": "python",
   "nbconvert_exporter": "python",
   "pygments_lexer": "ipython3",
   "version": "3.10.6"
  }
 },
 "nbformat": 4,
 "nbformat_minor": 5
}
